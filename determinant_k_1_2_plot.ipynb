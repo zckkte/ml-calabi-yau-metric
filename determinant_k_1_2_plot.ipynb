{
 "cells": [
  {
   "cell_type": "code",
   "execution_count": 1,
   "metadata": {},
   "outputs": [],
   "source": [
    "from donaldson import *\n",
    "import fermat_quintic as fq\n",
    "import cProfile as cp\n",
    "import itertools\n",
    "import matplotlib.pyplot as plt \n",
    "import matplotlib.lines as lines"
   ]
  },
  {
   "cell_type": "code",
   "execution_count": 2,
   "metadata": {},
   "outputs": [],
   "source": [
    "k_1 = 1 \n",
    "k_2 = 2\n",
    "h_bal_1 = donaldson(k=k_1, max_iterations=15)\n",
    "h_bal_2 = donaldson(k=k_2, max_iterations=15)\n",
    "points = fq.sample_quintic_points(8000)\n",
    "g_det_k = lambda k, h_bal : np.vectorize(lambda p : np.linalg.det(fq.pull_back(k, h_bal, p)), \n",
    "                                    signature='(m)->()')\n",
    "g_1 = g_det_k(k_1, h_bal_1)(points)\n",
    "g_2 = g_det_k(k_2, h_bal_2)(points)"
   ]
  },
  {
   "cell_type": "code",
   "execution_count": 3,
   "metadata": {},
   "outputs": [
    {
     "data": {
      "text/plain": [
       "array([0.00111421+1.57621757e-19j, 0.00802402+2.22711401e-19j,\n",
       "       0.00050092+2.05856909e-21j, ..., 0.20169634-8.55356293e-16j,\n",
       "       0.00242205-6.46333812e-20j, 0.00110552-2.24646177e-20j])"
      ]
     },
     "execution_count": 3,
     "metadata": {},
     "output_type": "execute_result"
    }
   ],
   "source": [
    "g_1"
   ]
  },
  {
   "cell_type": "code",
   "execution_count": 4,
   "metadata": {},
   "outputs": [],
   "source": [
    "k_1 = 2 \n",
    "k_2 = 3\n",
    "h_bal_1 = donaldson(k=k_1, max_iterations=15)\n",
    "h_bal_2 = donaldson(k=k_2, max_iterations=15)\n",
    "g_2 = g_det_k(k_1, h_bal_1)(points)\n",
    "g_3 = g_det_k(k_2, h_bal_2)(points)"
   ]
  },
  {
   "cell_type": "code",
   "execution_count": 9,
   "metadata": {},
   "outputs": [
    {
     "data": {
      "text/plain": [
       "array([0.00153806-3.66258274e-20j, 0.00911542-1.89752817e-18j,\n",
       "       0.00061978+5.76256328e-19j, ..., 0.30950214-4.97131058e-15j,\n",
       "       0.00122105+1.46319079e-19j, 0.00149188+5.62946568e-20j])"
      ]
     },
     "execution_count": 9,
     "metadata": {},
     "output_type": "execute_result"
    }
   ],
   "source": [
    "g_3"
   ]
  },
  {
   "cell_type": "code",
   "execution_count": 21,
   "metadata": {
    "scrolled": false
   },
   "outputs": [
    {
     "ename": "TypeError",
     "evalue": "cannot unpack non-iterable AxesSubplot object",
     "output_type": "error",
     "traceback": [
      "\u001b[0;31m---------------------------------------------------------------------------\u001b[0m",
      "\u001b[0;31mTypeError\u001b[0m                                 Traceback (most recent call last)",
      "\u001b[0;32m<ipython-input-21-3d5c124c04f5>\u001b[0m in \u001b[0;36m<module>\u001b[0;34m\u001b[0m\n\u001b[1;32m      5\u001b[0m \u001b[0;34m\u001b[0m\u001b[0m\n\u001b[1;32m      6\u001b[0m \u001b[0;34m\u001b[0m\u001b[0m\n\u001b[0;32m----> 7\u001b[0;31m \u001b[0mfig\u001b[0m\u001b[0;34m,\u001b[0m \u001b[0max\u001b[0m \u001b[0;34m=\u001b[0m \u001b[0mplt\u001b[0m\u001b[0;34m.\u001b[0m\u001b[0msubplot\u001b[0m\u001b[0;34m(\u001b[0m\u001b[0;36m1\u001b[0m\u001b[0;34m,\u001b[0m \u001b[0;36m2\u001b[0m\u001b[0;34m,\u001b[0m \u001b[0;36m1\u001b[0m\u001b[0;34m)\u001b[0m\u001b[0;34m\u001b[0m\u001b[0;34m\u001b[0m\u001b[0m\n\u001b[0m\u001b[1;32m      8\u001b[0m \u001b[0max\u001b[0m\u001b[0;34m.\u001b[0m\u001b[0madd_line\u001b[0m\u001b[0;34m(\u001b[0m\u001b[0mxy_line\u001b[0m\u001b[0;34m)\u001b[0m\u001b[0;34m\u001b[0m\u001b[0;34m\u001b[0m\u001b[0m\n\u001b[1;32m      9\u001b[0m \u001b[0mplt\u001b[0m\u001b[0;34m.\u001b[0m\u001b[0mscatter\u001b[0m\u001b[0;34m(\u001b[0m\u001b[0mnp\u001b[0m\u001b[0;34m.\u001b[0m\u001b[0mreal\u001b[0m\u001b[0;34m(\u001b[0m\u001b[0mg_2\u001b[0m\u001b[0;34m)\u001b[0m\u001b[0;34m,\u001b[0m \u001b[0mnp\u001b[0m\u001b[0;34m.\u001b[0m\u001b[0mreal\u001b[0m\u001b[0;34m(\u001b[0m\u001b[0mg_1\u001b[0m\u001b[0;34m)\u001b[0m\u001b[0;34m,\u001b[0m \u001b[0mcolor\u001b[0m\u001b[0;34m=\u001b[0m\u001b[0;34m'blue'\u001b[0m\u001b[0;34m,\u001b[0m \u001b[0mmarker\u001b[0m\u001b[0;34m=\u001b[0m\u001b[0;34m'o'\u001b[0m\u001b[0;34m,\u001b[0m \u001b[0ms\u001b[0m\u001b[0;34m=\u001b[0m\u001b[0;36m2\u001b[0m\u001b[0;34m)\u001b[0m\u001b[0;34m\u001b[0m\u001b[0;34m\u001b[0m\u001b[0m\n",
      "\u001b[0;31mTypeError\u001b[0m: cannot unpack non-iterable AxesSubplot object"
     ]
    },
    {
     "data": {
      "image/png": "[encoded data removed]",
      "text/plain": [
       "<Figure size 1440x720 with 1 Axes>"
      ]
     },
     "metadata": {
      "needs_background": "light"
     },
     "output_type": "display_data"
    }
   ],
   "source": [
    "\n",
    "fig, ax = plt.subplots(figsize=(20,10))\n",
    "xy_line = lines.Line2D([0, 1], [0, 1], color='red', linestyle='--', \n",
    "                       linewidth=1.5, figure=fig)\n",
    "xy_line.set_transform(ax.transAxes)\n",
    "\n",
    "\n",
    "fig, ax = plt.subplot(1, 2, 1)\n",
    "ax.add_line(xy_line)\n",
    "plt.scatter(np.real(g_2), np.real(g_1), color='blue', marker='o', s=2)\n",
    "plt.xlabel(r'$g^{(2)}|_p$') \n",
    "plt.ylabel(r'$g^{(1)}|_p$') \n",
    "plt.xlim(0, .004)\n",
    "plt.ylim(0, .004)\n",
    "plt.title(r'$g^{(1)}|_p$ vs. $g^{(2)}|_p$') \n",
    "\n",
    "plt.subplot(1, 2, 2)\n",
    "ax.add_line(xy_line)\n",
    "plt.scatter(np.real(g_3), np.real(g_2), color='blue', marker='o', s=2)\n",
    "plt.xlabel(r'$g^{(3)}|_p$') \n",
    "plt.ylabel(r'$g^{(2)}|_p$') \n",
    "plt.xlim(0, .004)\n",
    "plt.ylim(0, .004)\n",
    "\n",
    "plt.title(r'$g^{(2)}|_p$ vs. $g^{(3)}|_p$') \n",
    "plt.show()"
   ]
  },
  {
   "cell_type": "code",
   "execution_count": null,
   "metadata": {},
   "outputs": [],
   "source": []
  }
 ],
 "metadata": {
  "kernelspec": {
   "display_name": "Python 3",
   "language": "python",
   "name": "python3"
  },
  "language_info": {
   "codemirror_mode": {
    "name": "ipython",
    "version": 3
   },
   "file_extension": ".py",
   "mimetype": "text/x-python",
   "name": "python",
   "nbconvert_exporter": "python",
   "pygments_lexer": "ipython3",
   "version": "3.7.3"
  }
 },
 "nbformat": 4,
 "nbformat_minor": 4
}
