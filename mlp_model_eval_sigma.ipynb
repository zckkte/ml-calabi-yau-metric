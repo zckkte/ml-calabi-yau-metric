{
 "cells": [
  {
   "cell_type": "code",
   "execution_count": 1,
   "metadata": {},
   "outputs": [],
   "source": [
    "import donaldson \n",
    "import fermat_quintic as fq\n",
    "import numpy as np\n",
    "import tensorflow as tf\n",
    "import tensorflow.keras as keras\n",
    "import os.path \n",
    "from cy_metric_dnn import * \n",
    "import tf_metric_measures \n",
    "from metric_measures import __sigma_error \n",
    "import json\n",
    "from donaldson_eval_helpers import hermitian_elements"
   ]
  },
  {
   "cell_type": "code",
   "execution_count": 14,
   "metadata": {},
   "outputs": [],
   "source": [
    "models = ['~/1598611839_model_b32_s28_n100000.h5', \n",
    "          '~/1598742290_model_b256_s64_n100000.h5',\n",
    "          '~/1598613157_model_b256_s64_n100000.h5',\n",
    "         '~/1599897199_model_b32_s28_n200000.h5']\n",
    "model = keras.models.load_model(os.path.expanduser(models[0]),\n",
    "                                   custom_objects={'<lambda>': to_hermitian_batch, 'COORDINATES' : COORDINATES}, \n",
    "                                   compile=False)\n"
   ]
  },
  {
   "cell_type": "code",
   "execution_count": 15,
   "metadata": {},
   "outputs": [],
   "source": [
    "point_weights = convert_to_ndarray(fq.quintic_point_weights(n_p=10000))"
   ]
  },
  {
   "cell_type": "code",
   "execution_count": 16,
   "metadata": {},
   "outputs": [],
   "source": [
    "gs = model.predict(point_weights)"
   ]
  },
  {
   "cell_type": "code",
   "execution_count": 17,
   "metadata": {},
   "outputs": [
    {
     "data": {
      "text/plain": [
       "<tf.Tensor: shape=(), dtype=float32, numpy=0.70926>"
      ]
     },
     "execution_count": 17,
     "metadata": {},
     "output_type": "execute_result"
    }
   ],
   "source": [
    "tf_metric_measures.sigma_error(concat_point_weight_det(point_weights, gs))"
   ]
  },
  {
   "cell_type": "code",
   "execution_count": null,
   "metadata": {},
   "outputs": [],
   "source": []
  }
 ],
 "metadata": {
  "kernelspec": {
   "display_name": "Python 3",
   "language": "python",
   "name": "python3"
  },
  "language_info": {
   "codemirror_mode": {
    "name": "ipython",
    "version": 3
   },
   "file_extension": ".py",
   "mimetype": "text/x-python",
   "name": "python",
   "nbconvert_exporter": "python",
   "pygments_lexer": "ipython3",
   "version": "3.8.2"
  }
 },
 "nbformat": 4,
 "nbformat_minor": 4
}
